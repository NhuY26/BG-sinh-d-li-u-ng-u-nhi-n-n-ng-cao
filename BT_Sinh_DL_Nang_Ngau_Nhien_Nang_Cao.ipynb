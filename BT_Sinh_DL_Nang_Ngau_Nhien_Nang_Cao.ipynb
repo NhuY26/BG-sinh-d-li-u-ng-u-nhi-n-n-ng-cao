{
  "cells": [
    {
      "cell_type": "markdown",
      "metadata": {
        "id": "view-in-github",
        "colab_type": "text"
      },
      "source": [
        "<a href=\"https://colab.research.google.com/github/NhuY26/BT-Sinh-DL-Nang-Ngau-Nhien-Nang-Cao/blob/main/BT_Sinh_DL_Nang_Ngau_Nhien_Nang_Cao.ipynb\" target=\"_parent\"><img src=\"https://colab.research.google.com/assets/colab-badge.svg\" alt=\"Open In Colab\"/></a>"
      ]
    },
    {
      "cell_type": "markdown",
      "metadata": {
        "id": "-2a4Z8xpIM24"
      },
      "source": [
        "Sử dụng thư viện Numpy\n",
        "\n",
        "1. Sinh mẫu ngẫu nhiên bằng hàm arange trong khoảng [-15, 27] với khoảng cách là 0.7 và in kết quả ra màn hình"
      ]
    },
    {
      "cell_type": "code",
      "source": [
        "import numpy as np"
      ],
      "metadata": {
        "id": "gMxW_yMNIm1f"
      },
      "execution_count": 1,
      "outputs": []
    },
    {
      "cell_type": "code",
      "execution_count": 2,
      "metadata": {
        "id": "ysdjkIeCIM28",
        "outputId": "76eeb25b-8fce-4654-d8d2-1b9e139e2f2a",
        "colab": {
          "base_uri": "https://localhost:8080/"
        }
      },
      "outputs": [
        {
          "output_type": "stream",
          "name": "stdout",
          "text": [
            "[-15.  -14.3 -13.6 -12.9 -12.2 -11.5 -10.8 -10.1  -9.4  -8.7  -8.   -7.3\n",
            "  -6.6  -5.9  -5.2  -4.5  -3.8  -3.1  -2.4  -1.7  -1.   -0.3   0.4   1.1\n",
            "   1.8   2.5   3.2   3.9   4.6   5.3   6.    6.7   7.4   8.1   8.8   9.5\n",
            "  10.2  10.9  11.6  12.3  13.   13.7  14.4  15.1  15.8  16.5  17.2  17.9\n",
            "  18.6  19.3  20.   20.7  21.4  22.1  22.8  23.5  24.2  24.9  25.6  26.3\n",
            "  27. ]\n"
          ]
        }
      ],
      "source": [
        "samples = np.arange(-15,27,0.7)\n",
        "print(samples)"
      ]
    },
    {
      "cell_type": "markdown",
      "metadata": {
        "id": "KKU0K0npIM29"
      },
      "source": [
        "2. Sinh mẫu ngẫu nhiên theo phân phối chuẩn với mean = 2.7 std = 1.2 và size = 40\n",
        "In kết quả ra màn hình"
      ]
    },
    {
      "cell_type": "code",
      "execution_count": 4,
      "metadata": {
        "id": "0zy4KpCiIM29",
        "outputId": "a19071c7-f01f-4ecd-d02d-555259a47a9a",
        "colab": {
          "base_uri": "https://localhost:8080/"
        }
      },
      "outputs": [
        {
          "output_type": "stream",
          "name": "stdout",
          "text": [
            "[2.28269745 2.73205626 2.65297324 0.62454957 6.07791332 1.29142521\n",
            " 1.07365371 2.82723603 3.26503837 1.53792281 3.28548811 2.39679404\n",
            " 3.0696723  1.83331572 0.97744929 4.19704291 2.61888032 1.93648128\n",
            " 2.9526361  3.89298785 3.19091567 1.90202887 5.15257748 4.26099024\n",
            " 3.43366069 0.62688312 3.47517236 1.18371349 0.36128541 2.23968664\n",
            " 1.69456916 4.23718511 3.07082699 2.64560431 5.39760786 0.55082794\n",
            " 3.54090879 2.36202788 2.86636704 4.48674876]\n"
          ]
        }
      ],
      "source": [
        "samples_1 = np.random.normal(2.7,1.2,40)\n",
        "print(samples_1)"
      ]
    },
    {
      "cell_type": "markdown",
      "metadata": {
        "id": "TTrT61cLIM2-"
      },
      "source": [
        "3. Sinh mẫu ngẫu nhiên từ vector ['Viet Nam', 'Britain', 'France', 'Russia', 'Singapore'] \n",
        "\n",
        "với kích thước là 17 theo phân phối chuẩn"
      ]
    },
    {
      "cell_type": "code",
      "execution_count": 5,
      "metadata": {
        "id": "ZvIpBC68IM2-",
        "outputId": "70e0dfcc-8279-4755-b475-55a408d2e596",
        "colab": {
          "base_uri": "https://localhost:8080/"
        }
      },
      "outputs": [
        {
          "output_type": "execute_result",
          "data": {
            "text/plain": [
              "array(['Britain', 'France', 'Viet Nam', 'France', 'Britain', 'Russia',\n",
              "       'Britain', 'France', 'Singapore', 'Singapore', 'Viet Nam',\n",
              "       'Britain', 'Viet Nam', 'Viet Nam', 'Britain', 'France', 'France'],\n",
              "      dtype='<U9')"
            ]
          },
          "metadata": {},
          "execution_count": 5
        }
      ],
      "source": [
        "np.random.choice(['Viet Nam', 'Britain', 'France', 'Russia', 'Singapore'],size = 17)"
      ]
    },
    {
      "cell_type": "markdown",
      "metadata": {
        "id": "T7BxefSOIM2_"
      },
      "source": [
        "4. Sinh mẫu ngẫu nhiên ở câu 3 nhưng không theo phân phối chuẩn mà theo 1 vector đặc tả giá trị xác suất do bạn chọn"
      ]
    },
    {
      "cell_type": "code",
      "execution_count": 6,
      "metadata": {
        "id": "pmTbmfEmIM2_",
        "outputId": "0cc6e570-48ee-4acd-a58c-a787c48834eb",
        "colab": {
          "base_uri": "https://localhost:8080/"
        }
      },
      "outputs": [
        {
          "output_type": "execute_result",
          "data": {
            "text/plain": [
              "array(['France', 'France', 'Russia', 'Viet Nam', 'Singapore', 'Viet Nam',\n",
              "       'Viet Nam', 'Britain', 'Viet Nam', 'Britain', 'France', 'France',\n",
              "       'Viet Nam', 'France', 'Viet Nam', 'Viet Nam', 'Britain'],\n",
              "      dtype='<U9')"
            ]
          },
          "metadata": {},
          "execution_count": 6
        }
      ],
      "source": [
        "np.random.choice(['Viet Nam', 'Britain', 'France', 'Russia', 'Singapore'],size = 17, p = [0.4,0.1,0.2,0.1,0.2])"
      ]
    },
    {
      "cell_type": "markdown",
      "metadata": {
        "id": "PUk_M7cWIM3A"
      },
      "source": [
        "Sử dụng thư việc scipy.stats để sinh mẫu ngẫu nhiên\n",
        "\n",
        "1. Sinh mẫu ngẫu nhiên theo phân phối chuẩn với mean = 12.7, std = 2.6 và size = 30. In kết quả ra màn hình"
      ]
    },
    {
      "cell_type": "code",
      "source": [
        "from scipy import stats"
      ],
      "metadata": {
        "id": "S0HUcSp_JVbX"
      },
      "execution_count": 7,
      "outputs": []
    },
    {
      "cell_type": "code",
      "execution_count": 8,
      "metadata": {
        "id": "Tm0onkbGIM3B",
        "outputId": "561e6716-c53f-4fad-e653-63a1cc4ef168",
        "colab": {
          "base_uri": "https://localhost:8080/"
        }
      },
      "outputs": [
        {
          "output_type": "execute_result",
          "data": {
            "text/plain": [
              "array([11.65840319, 12.10160589, 13.94822869, 13.32546606,  9.77619111,\n",
              "       12.29955378, 11.87670977, 13.51379287,  7.88006875, 11.12447157,\n",
              "       13.31463633,  8.97323756, 12.49590783, 10.02789527, 12.45234516,\n",
              "       11.40449313, 14.56737324, 12.53548722, 11.25643077, 12.57383477,\n",
              "       16.08930611, 10.07138423, 12.46939246, 12.18206889, 12.02048314,\n",
              "       13.58849518, 10.35024332, 12.20530206, 11.28829459,  7.83271091])"
            ]
          },
          "metadata": {},
          "execution_count": 8
        }
      ],
      "source": [
        "stats.norm.rvs(loc = 12.7, scale = 2.6, size = 30)"
      ]
    },
    {
      "cell_type": "markdown",
      "metadata": {
        "id": "zoLRdnsQIM3B"
      },
      "source": [
        "2. Hãy sinh một mẫu ngẫu nhiên theo phân phối Poisson"
      ]
    },
    {
      "cell_type": "code",
      "execution_count": 9,
      "metadata": {
        "id": "mmbiwA0MIM3B",
        "outputId": "ca0ce783-e674-4508-b37c-e622266a6f4f",
        "colab": {
          "base_uri": "https://localhost:8080/"
        }
      },
      "outputs": [
        {
          "output_type": "stream",
          "name": "stdout",
          "text": [
            "[108 104 100  90  89 110 107 117 101  96  98 103 104 110 116  84  86  77\n",
            " 101  90  96  94  95  97 110  97 111 103 101  74  83  95  94  95 114 114\n",
            " 103 103  94  94 102  99  95  94 102  81 109 102  96  94 105  78  85 114\n",
            "  91  85  99  88 104  92  91 117 102 102 102 102  88 106  98 100  84 102\n",
            "  90  94 107  97 111 109 103 103 108  99  99  89 112  99  86  84  82 102\n",
            " 105  96 110  97  97 111 100  91 128 113]\n"
          ]
        }
      ],
      "source": [
        "np.random.seed(10)\n",
        "a = stats.poisson.rvs(mu = 100, size = 100)\n",
        "print(a)"
      ]
    }
  ],
  "metadata": {
    "kernelspec": {
      "display_name": "Python 3",
      "language": "python",
      "name": "python3"
    },
    "language_info": {
      "codemirror_mode": {
        "name": "ipython",
        "version": 3
      },
      "file_extension": ".py",
      "mimetype": "text/x-python",
      "name": "python",
      "nbconvert_exporter": "python",
      "pygments_lexer": "ipython3",
      "version": "3.7.3"
    },
    "colab": {
      "name": " BT-Sinh-DL-Nang-Ngau-Nhien-Nang-Cao.ipynb",
      "provenance": [],
      "include_colab_link": true
    }
  },
  "nbformat": 4,
  "nbformat_minor": 0
}